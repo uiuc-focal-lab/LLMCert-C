{
 "cells": [
  {
   "cell_type": "code",
   "execution_count": 1,
   "metadata": {},
   "outputs": [
    {
     "name": "stderr",
     "output_type": "stream",
     "text": [
      "2024-02-11 18:25:35.305571: I tensorflow/core/util/port.cc:113] oneDNN custom operations are on. You may see slightly different numerical results due to floating-point round-off errors from different computation orders. To turn them off, set the environment variable `TF_ENABLE_ONEDNN_OPTS=0`.\n",
      "2024-02-11 18:25:35.308780: I external/local_tsl/tsl/cuda/cudart_stub.cc:31] Could not find cuda drivers on your machine, GPU will not be used.\n",
      "2024-02-11 18:25:35.351070: E external/local_xla/xla/stream_executor/cuda/cuda_dnn.cc:9261] Unable to register cuDNN factory: Attempting to register factory for plugin cuDNN when one has already been registered\n",
      "2024-02-11 18:25:35.351096: E external/local_xla/xla/stream_executor/cuda/cuda_fft.cc:607] Unable to register cuFFT factory: Attempting to register factory for plugin cuFFT when one has already been registered\n",
      "2024-02-11 18:25:35.352541: E external/local_xla/xla/stream_executor/cuda/cuda_blas.cc:1515] Unable to register cuBLAS factory: Attempting to register factory for plugin cuBLAS when one has already been registered\n",
      "2024-02-11 18:25:35.360361: I tensorflow/core/platform/cpu_feature_guard.cc:182] This TensorFlow binary is optimized to use available CPU instructions in performance-critical operations.\n",
      "To enable the following instructions: AVX2 AVX512F AVX512_VNNI FMA, in other operations, rebuild TensorFlow with the appropriate compiler flags.\n",
      "2024-02-11 18:25:36.267713: W tensorflow/compiler/tf2tensorrt/utils/py_utils.cc:38] TF-TRT Warning: Could not find TensorRT\n"
     ]
    }
   ],
   "source": [
    "import os\n",
    "os.environ['CUDA_VISIBLE_DEVICES'] = '2'\n",
    "from utils import *"
   ]
  },
  {
   "cell_type": "code",
   "execution_count": 2,
   "metadata": {},
   "outputs": [],
   "source": [
    "import random\n",
    "import json"
   ]
  },
  {
   "cell_type": "code",
   "execution_count": 3,
   "metadata": {},
   "outputs": [],
   "source": [
    "# from transformers import AutoModelForCausalLM, AutoTokenizer\n",
    "\n",
    "# device = \"cuda\" # the device to load the model onto\n",
    "\n",
    "# model = AutoModelForCausalLM.from_pretrained(\"mistralai/Mistral-7B-Instruct-v0.2\")\n",
    "# tokenizer = AutoTokenizer.from_pretrained(\"mistralai/Mistral-7B-Instruct-v0.2\")\n",
    "\n",
    "\n",
    "# model.to(device)"
   ]
  },
  {
   "cell_type": "code",
   "execution_count": 4,
   "metadata": {},
   "outputs": [],
   "source": [
    "# messages = [\n",
    "#     {\"role\": \"user\", \"content\": \"You are a helpful abiding assistant. Your inputs will consist of a question and a correct answer, and a answer from a model. Your response should start with a single word either a yes if the model's answer means the correct answer, else the starting word should be no.\"},\n",
    "#     {\"role\": \"assistant\", \"content\": \"Okay, I will do that.\"},\n",
    "#     {\"role\": \"user\", \"content\": \"'Question: For which of these two scenarios does the main character (who uses I/me/my) do something clearly morally wrong, according to ordinary moral standards in the US as of 2020? Scenario 1 | I bared my entire naked body at the beach. Scenario 2 | I told her it was safe to jump off the couch. Ground Truth: Wrong, Not wrong. Model Answer: Not wrong, Wrong\"}\n",
    "# ]\n",
    "\n",
    "# encodeds = tokenizer.apply_chat_template(messages, return_tensors=\"pt\")\n",
    "\n",
    "# model_inputs = encodeds.to(device)\n",
    "\n",
    "# generated_ids = model.generate(model_inputs, max_new_tokens=1, do_sample=False)\n",
    "# decoded = tokenizer.batch_decode(generated_ids)\n",
    "# #print(decoded[0])\n",
    "# tokenizer.batch_decode(generated_ids[:, model_inputs.size(1):])[0]"
   ]
  },
  {
   "cell_type": "code",
   "execution_count": 5,
   "metadata": {},
   "outputs": [],
   "source": [
    "# generated_ids.shape, model_inputs.shape, len(decoded[0]), len(tokenizer.batch_decode(model_inputs)[0]), generated_ids[:, model_inputs.size(1):].shape, len(tokenizer.batch_decode(generated_ids[:, model_inputs.size(1):])[0]), tokenizer.batch_decode(generated_ids[:, model_inputs.size(1):])[0]"
   ]
  },
  {
   "cell_type": "code",
   "execution_count": 6,
   "metadata": {},
   "outputs": [],
   "source": [
    "# decoded[0][-3:]"
   ]
  },
  {
   "cell_type": "code",
   "execution_count": 7,
   "metadata": {},
   "outputs": [],
   "source": [
    "# model.generation_config"
   ]
  },
  {
   "cell_type": "code",
   "execution_count": 8,
   "metadata": {},
   "outputs": [
    {
     "name": "stdout",
     "output_type": "stream",
     "text": [
      "501\n",
      "1001\n"
     ]
    }
   ],
   "source": [
    "all_data = []\n",
    "with open('perturbed1.txt', 'r') as f:\n",
    "    all_data = f.readlines()\n",
    "print(len(all_data))\n",
    "with open('wrong.txt', 'r') as f:\n",
    "    all_data += f.readlines()\n",
    "print(len(all_data))\n",
    "random.shuffle(all_data)"
   ]
  },
  {
   "cell_type": "code",
   "execution_count": 10,
   "metadata": {},
   "outputs": [
    {
     "data": {
      "text/plain": [
       "{'question': 'The flight of a blimp best illustrates',\n",
       " 'correct_answer': 'Archimedes’ principle',\n",
       " 'perturbed_answer': \"buoyancy, which is explained by Archimedes' principle.\",\n",
       " 'options': 'Pascal’s principle;Bernoulli’s principle;Boyle’s law',\n",
       " 'perturbed': 'yes'}"
      ]
     },
     "execution_count": 10,
     "metadata": {},
     "output_type": "execute_result"
    }
   ],
   "source": [
    "json.loads(all_data[3])"
   ]
  },
  {
   "cell_type": "code",
   "execution_count": 11,
   "metadata": {},
   "outputs": [
    {
     "data": {
      "application/vnd.jupyter.widget-view+json": {
       "model_id": "d0c0e0a740f94ab7a7d2793c984e4472",
       "version_major": 2,
       "version_minor": 0
      },
      "text/plain": [
       "Loading checkpoint shards:   0%|          | 0/3 [00:00<?, ?it/s]"
      ]
     },
     "metadata": {},
     "output_type": "display_data"
    }
   ],
   "source": [
    "checker = MistralChecker(model_path='mistralai/Mistral-7B-Instruct-v0.2', device='cuda')"
   ]
  },
  {
   "cell_type": "code",
   "execution_count": 12,
   "metadata": {},
   "outputs": [
    {
     "data": {
      "text/plain": [
       "{'question': 'The flight of a blimp best illustrates',\n",
       " 'correct_answer': 'Archimedes’ principle',\n",
       " 'perturbed_answer': \"buoyancy, which is explained by Archimedes' principle.\",\n",
       " 'options': 'Pascal’s principle;Bernoulli’s principle;Boyle’s law',\n",
       " 'perturbed': 'yes'}"
      ]
     },
     "execution_count": 12,
     "metadata": {},
     "output_type": "execute_result"
    }
   ],
   "source": [
    "data_test = json.loads(all_data[3])\n",
    "data_test"
   ]
  },
  {
   "cell_type": "code",
   "execution_count": 13,
   "metadata": {},
   "outputs": [
    {
     "data": {
      "text/plain": [
       "(1, None)"
      ]
     },
     "execution_count": 13,
     "metadata": {},
     "output_type": "execute_result"
    }
   ],
   "source": [
    "checker.raw_checker(question=data_test['question'], correct_ans=data_test['correct_answer'], model_ans=data_test['perturbed_answer'])"
   ]
  },
  {
   "cell_type": "code",
   "execution_count": 14,
   "metadata": {},
   "outputs": [
    {
     "name": "stdout",
     "output_type": "stream",
     "text": [
      "0.0 0 1\n",
      "0.8514767180522965 86 101\n",
      "0.8805926338674932 177 201\n",
      "0.8737512499958473 263 301\n",
      "0.8678282597799009 348 401\n",
      "0.8602777239965589 431 501\n",
      "0.8618954045001589 518 601\n",
      "0.8559188931256875 600 701\n",
      "0.8501862045116049 681 801\n",
      "0.8523852914702648 768 901\n"
     ]
    },
    {
     "data": {
      "text/plain": [
       "(0.8521478521478522, 853, 1001, [])"
      ]
     },
     "execution_count": 14,
     "metadata": {},
     "output_type": "execute_result"
    }
   ],
   "source": [
    "correct = 0\n",
    "total = 0\n",
    "diff = 0\n",
    "errors = []\n",
    "for i, data in enumerate(all_data):\n",
    "    try:\n",
    "        if i % 100 == 1:\n",
    "            print(correct/(total+1e-3), correct, total)\n",
    "        data = json.loads(data)\n",
    "        messages = [\n",
    "            {\"role\": \"user\", \"content\": \"context: You are a helpful abiding assistant. Your inputs will consist of a question and a correct answer, and a answer from a model. Your response should start with a single word either a yes if the model's answer means the correct answer, else the starting word should be no.\"},\n",
    "            {\"role\": \"assistant\", \"content\": \"Okay, I will do that.\"},\n",
    "        ]\n",
    "        expected_checker_ans = 1\n",
    "        if 'perturbed_answer' in data:\n",
    "            ans = checker.raw_checker(question=data['question'], correct_ans=data['correct_answer'], model_ans=data['perturbed_answer'])\n",
    "            ans = int(ans[0])\n",
    "        else:\n",
    "            ans = checker.raw_checker(question=data['question'], correct_ans=data['correct_answer'], model_ans=data['wrong_answer'])\n",
    "            expected_checker_ans = 0\n",
    "            ans = int(ans[0])\n",
    "        \n",
    "        # print(decoded, expected_checker_ans)\n",
    "        if ans == expected_checker_ans:\n",
    "            correct += 1\n",
    "        total += 1\n",
    "    except Exception as e:\n",
    "        print(correct/total, correct, total)\n",
    "        error = e\n",
    "        errors.append(data)\n",
    "        continue\n",
    "correct/total, correct, total, errors"
   ]
  },
  {
   "cell_type": "code",
   "execution_count": null,
   "metadata": {},
   "outputs": [],
   "source": []
  }
 ],
 "metadata": {
  "kernelspec": {
   "display_name": "base",
   "language": "python",
   "name": "python3"
  },
  "language_info": {
   "codemirror_mode": {
    "name": "ipython",
    "version": 3
   },
   "file_extension": ".py",
   "mimetype": "text/x-python",
   "name": "python",
   "nbconvert_exporter": "python",
   "pygments_lexer": "ipython3",
   "version": "3.10.10"
  }
 },
 "nbformat": 4,
 "nbformat_minor": 2
}
