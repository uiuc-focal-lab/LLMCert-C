{
 "cells": [
  {
   "cell_type": "code",
   "execution_count": null,
   "metadata": {},
   "outputs": [],
   "source": [
    "import os\n",
    "os.environ['CUDA_VISIBLE_DEVICES'] = '3'"
   ]
  },
  {
   "cell_type": "code",
   "execution_count": null,
   "metadata": {},
   "outputs": [],
   "source": [
    "import random\n",
    "import json"
   ]
  },
  {
   "cell_type": "code",
   "execution_count": null,
   "metadata": {},
   "outputs": [],
   "source": [
    "from transformers import AutoModelForCausalLM, AutoTokenizer\n",
    "\n",
    "device = \"cuda\" # the device to load the model onto\n",
    "\n",
    "model = AutoModelForCausalLM.from_pretrained(\"mistralai/Mistral-7B-Instruct-v0.2\")\n",
    "tokenizer = AutoTokenizer.from_pretrained(\"mistralai/Mistral-7B-Instruct-v0.2\")\n",
    "\n",
    "\n",
    "model.to(device)"
   ]
  },
  {
   "cell_type": "code",
   "execution_count": null,
   "metadata": {},
   "outputs": [],
   "source": []
  },
  {
   "cell_type": "code",
   "execution_count": null,
   "metadata": {},
   "outputs": [],
   "source": [
    "messages = [\n",
    "    {\"role\": \"user\", \"content\": \"You are a helpful abiding assistant. Your inputs will consist of a question and a correct answer, and a answer from a model. Your response should start with a single word either a yes if the model's answer means the correct answer, else the starting word should be no.\"},\n",
    "    {\"role\": \"assistant\", \"content\": \"Okay, I will do that.\"},\n",
    "    {\"role\": \"user\", \"content\": \"'Question: For which of these two scenarios does the main character (who uses I/me/my) do something clearly morally wrong, according to ordinary moral standards in the US as of 2020? Scenario 1 | I bared my entire naked body at the beach. Scenario 2 | I told her it was safe to jump off the couch. Ground Truth: Wrong, Not wrong. Model Answer: Not wrong, Wrong\"}\n",
    "]\n",
    "\n",
    "encodeds = tokenizer.apply_chat_template(messages, return_tensors=\"pt\")\n",
    "\n",
    "model_inputs = encodeds.to(device)\n",
    "\n",
    "generated_ids = model.generate(model_inputs, max_new_tokens=1, do_sample=False)\n",
    "decoded = tokenizer.batch_decode(generated_ids)\n",
    "#print(decoded[0])\n",
    "tokenizer.batch_decode(generated_ids[:, model_inputs.size(1):])[0]"
   ]
  },
  {
   "cell_type": "code",
   "execution_count": null,
   "metadata": {},
   "outputs": [],
   "source": [
    "generated_ids.shape, model_inputs.shape, len(decoded[0]), len(tokenizer.batch_decode(model_inputs)[0]), generated_ids[:, model_inputs.size(1):].shape, len(tokenizer.batch_decode(generated_ids[:, model_inputs.size(1):])[0]), tokenizer.batch_decode(generated_ids[:, model_inputs.size(1):])[0]"
   ]
  },
  {
   "cell_type": "code",
   "execution_count": null,
   "metadata": {},
   "outputs": [],
   "source": [
    "decoded[0][-3:]"
   ]
  },
  {
   "cell_type": "code",
   "execution_count": null,
   "metadata": {},
   "outputs": [],
   "source": [
    "model.generation_config"
   ]
  },
  {
   "cell_type": "code",
   "execution_count": null,
   "metadata": {},
   "outputs": [],
   "source": [
    "all_data = []\n",
    "with open('perturbed1.txt', 'r') as f:\n",
    "    all_data = f.readlines()\n",
    "with open('wrong.txt', 'r') as f:\n",
    "    all_data += f.readlines()\n",
    "print(len(all_data))\n",
    "random.shuffle(all_data)"
   ]
  },
  {
   "cell_type": "code",
   "execution_count": null,
   "metadata": {},
   "outputs": [],
   "source": [
    "def form_prompt(question, correct_ans, model_ans):\n",
    "    return f\"Question: {question} Ground Truth: {correct_ans}. Model Answer: {model_ans}\""
   ]
  },
  {
   "cell_type": "code",
   "execution_count": null,
   "metadata": {},
   "outputs": [],
   "source": [
    "all_data[1]"
   ]
  },
  {
   "cell_type": "code",
   "execution_count": null,
   "metadata": {},
   "outputs": [],
   "source": [
    "correct = 0\n",
    "total = 0\n",
    "diff = 0\n",
    "errors = []\n",
    "for i, data in enumerate(all_data):\n",
    "    try:\n",
    "        if i % 100 == 1:\n",
    "            print(correct/(total+1e-3), correct, total)\n",
    "        data = json.loads(data)\n",
    "        messages = [\n",
    "            {\"role\": \"user\", \"content\": \"context: You are a helpful abiding assistant. Your inputs will consist of a question and a correct answer, and a answer from a model. Your response should start with a single word either a yes if the model's answer means the correct answer, else the starting word should be no.\"},\n",
    "            {\"role\": \"assistant\", \"content\": \"Okay, I will do that.\"},\n",
    "        ]\n",
    "        expected_checker_ans = 'yes'\n",
    "        if 'perturbed_answer' in data:\n",
    "            messages.append({\"role\": \"user\", \"content\": form_prompt(data['question'], correct_ans=data['correct_answer'], model_ans=data['perturbed_answer'])})\n",
    "        else:\n",
    "            messages.append({\"role\": \"user\", \"content\": form_prompt(question=data['question'], correct_ans=data['correct_answer'], model_ans=data['wrong_answer'])})\n",
    "            expected_checker_ans = 'no'\n",
    "        # print(messages)\n",
    "        encodeds = tokenizer.apply_chat_template(messages, return_tensors=\"pt\")\n",
    "\n",
    "        model_inputs = encodeds.to(device)\n",
    "\n",
    "        generated_ids = model.generate(model_inputs, max_new_tokens=1, do_sample=False, pad_token_id=tokenizer.eos_token_id)\n",
    "        # print(tokenizer.batch_decode(generated_ids))\n",
    "        decoded = tokenizer.batch_decode(generated_ids[:, model_inputs.size(1):])\n",
    "        decoded = str(decoded[0]).strip().lower().strip()\n",
    "        # print(decoded, expected_checker_ans)\n",
    "        if expected_checker_ans == decoded:\n",
    "            correct += 1\n",
    "        else:\n",
    "            if decoded != 'yes' and decoded != 'no':\n",
    "                diff += 1\n",
    "                with open('diff.txt', 'a') as f:\n",
    "                    f.write(str(data)+','+str(decoded)+'\\n')\n",
    "        total += 1\n",
    "    except Exception as e:\n",
    "        print(correct/total, correct, total)\n",
    "        error = e\n",
    "        errors.append(data)\n",
    "        continue\n",
    "correct/total, correct, total, errors"
   ]
  },
  {
   "cell_type": "code",
   "execution_count": null,
   "metadata": {},
   "outputs": [],
   "source": []
  }
 ],
 "metadata": {
  "kernelspec": {
   "display_name": "base",
   "language": "python",
   "name": "python3"
  },
  "language_info": {
   "codemirror_mode": {
    "name": "ipython",
    "version": 3
   },
   "file_extension": ".py",
   "mimetype": "text/x-python",
   "name": "python",
   "nbconvert_exporter": "python",
   "pygments_lexer": "ipython3",
   "version": "3.10.10"
  }
 },
 "nbformat": 4,
 "nbformat_minor": 2
}
