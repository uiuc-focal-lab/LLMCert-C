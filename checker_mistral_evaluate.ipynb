{
 "cells": [
  {
   "cell_type": "code",
   "execution_count": null,
   "metadata": {},
   "outputs": [],
   "source": [
    "import os\n",
    "os.environ['CUDA_VISIBLE_DEVICES'] = '2'\n",
    "from utils import *"
   ]
  },
  {
   "cell_type": "code",
   "execution_count": null,
   "metadata": {},
   "outputs": [],
   "source": [
    "import random\n",
    "import json"
   ]
  },
  {
   "cell_type": "code",
   "execution_count": null,
   "metadata": {},
   "outputs": [],
   "source": [
    "all_data = []\n",
    "with open('perturbed1.txt', 'r') as f:\n",
    "    all_data = f.readlines()\n",
    "print(len(all_data))\n",
    "with open('wrong.txt', 'r') as f:\n",
    "    all_data += f.readlines()\n",
    "print(len(all_data))\n",
    "random.shuffle(all_data)"
   ]
  },
  {
   "cell_type": "code",
   "execution_count": null,
   "metadata": {},
   "outputs": [],
   "source": [
    "json.loads(all_data[3])"
   ]
  },
  {
   "cell_type": "code",
   "execution_count": null,
   "metadata": {},
   "outputs": [],
   "source": [
    "checker = MistralChecker(model_path='mistralai/Mistral-7B-Instruct-v0.2', device='cuda')"
   ]
  },
  {
   "cell_type": "code",
   "execution_count": null,
   "metadata": {},
   "outputs": [],
   "source": [
    "data_test = json.loads(all_data[3])\n",
    "data_test"
   ]
  },
  {
   "cell_type": "code",
   "execution_count": null,
   "metadata": {},
   "outputs": [],
   "source": [
    "checker.raw_checker(question=data_test['question'], correct_ans=data_test['correct_answer'], model_ans=data_test['perturbed_answer'])"
   ]
  },
  {
   "cell_type": "code",
   "execution_count": null,
   "metadata": {},
   "outputs": [],
   "source": [
    "correct = 0\n",
    "total = 0\n",
    "diff = 0\n",
    "errors = []\n",
    "for i, data in enumerate(all_data):\n",
    "    try:\n",
    "        if i % 100 == 1:\n",
    "            print(correct/(total+1e-3), correct, total)\n",
    "        data = json.loads(data)\n",
    "        messages = [\n",
    "            {\"role\": \"user\", \"content\": \"context: You are a helpful abiding assistant. Your inputs will consist of a question and a correct answer, and a answer from a model. Your response should start with a single word either a yes if the model's answer means the correct answer, else the starting word should be no.\"},\n",
    "            {\"role\": \"assistant\", \"content\": \"Okay, I will do that.\"},\n",
    "        ]\n",
    "        expected_checker_ans = 1\n",
    "        if 'perturbed_answer' in data:\n",
    "            ans = checker.raw_checker(question=data['question'], correct_ans=data['correct_answer'], model_ans=data['perturbed_answer'])\n",
    "            ans = int(ans[0])\n",
    "        else:\n",
    "            ans = checker.raw_checker(question=data['question'], correct_ans=data['correct_answer'], model_ans=data['wrong_answer'])\n",
    "            expected_checker_ans = 0\n",
    "            ans = int(ans[0])\n",
    "        \n",
    "        # print(decoded, expected_checker_ans)\n",
    "        if ans == expected_checker_ans:\n",
    "            correct += 1\n",
    "        total += 1\n",
    "    except Exception as e:\n",
    "        print(correct/total, correct, total)\n",
    "        error = e\n",
    "        errors.append(data)\n",
    "        continue\n",
    "correct/total, correct, total, errors"
   ]
  },
  {
   "cell_type": "code",
   "execution_count": null,
   "metadata": {},
   "outputs": [],
   "source": []
  }
 ],
 "metadata": {
  "kernelspec": {
   "display_name": "base",
   "language": "python",
   "name": "python3"
  },
  "language_info": {
   "codemirror_mode": {
    "name": "ipython",
    "version": 3
   },
   "file_extension": ".py",
   "mimetype": "text/x-python",
   "name": "python",
   "nbconvert_exporter": "python",
   "pygments_lexer": "ipython3",
   "version": "3.10.10"
  }
 },
 "nbformat": 4,
 "nbformat_minor": 2
}
