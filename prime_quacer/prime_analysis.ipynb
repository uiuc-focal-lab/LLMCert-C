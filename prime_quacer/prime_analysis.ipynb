{
 "cells": [
  {
   "cell_type": "code",
   "execution_count": 1,
   "metadata": {},
   "outputs": [],
   "source": [
    "import os\n",
    "import json\n",
    "from utils import *\n",
    "import pandas as pd"
   ]
  },
  {
   "cell_type": "code",
   "execution_count": 2,
   "metadata": {},
   "outputs": [],
   "source": [
    "# with open('kg.csv', 'r') as f:\n",
    "#     lines = f.readlines()\n",
    "#     headers = lines[0].strip().split(',')\n",
    "#     for i, header in enumerate(headers):\n",
    "#         header2idx[header] = i\n",
    "#     for line_s in lines[1:]:\n",
    "#         line = line_s.strip().split(',')\n",
    "#         line = [l.strip() for l in line]\n",
    "#         x = 'ENID'+str(line[header2idx['x_index']])\n",
    "#         y = 'ENID'+str(line[header2idx['y_index']])\n",
    "#         x_type = line[header2idx['x_type']]\n",
    "#         y_type = line[header2idx['y_type']]\n",
    "#         if y_type == 'DB00469':\n",
    "#             print(line, len(line), line_s)\n",
    "#         rel_name = line[header2idx['display_relation']]+'_'+y_type\n",
    "#         actual_rels.add(line[header2idx['display_relation']].strip())\n",
    "#         x_name = line[header2idx['x_name']]\n",
    "#         y_name = line[header2idx['y_name']]\n",
    "#         x_source = line[header2idx['x_source']]\n",
    "#         y_source = line[header2idx['y_source']]\n",
    "#         id2name[x] = x_name\n",
    "#         id2name[y] = y_name\n",
    "#         id2source[x] = x_source\n",
    "#         id2source[y] = y_source\n",
    "#         graph, rel_id_counter, rels, edge2source, id2name, id2source = insert_edge(x, y, rel_name, line, header2idx, graph, id2name, \n",
    "#                     rels, rel_id_counter, edge2src, line_s, id2source, x_name, y_name, x_source, y_source)\n",
    "#         # if x_type != y_type:\n",
    "#         #     rel_name = line[header2idx['display_relation']]+'_'+x_type\n",
    "#         #     graph, rel_id_counter, rels, edge2source, id2name, id2source = insert_edge(y, x, rel_name, line, header2idx, graph, id2name, rels, \n",
    "#         #                 rel_id_counter, edge2src, line_s, id2source, y_name, x_name, y_source, x_source)"
   ]
  },
  {
   "cell_type": "code",
   "execution_count": 3,
   "metadata": {},
   "outputs": [
    {
     "name": "stderr",
     "output_type": "stream",
     "text": [
      "C:\\Users\\ved67\\AppData\\Local\\Temp\\ipykernel_34904\\3926644955.py:33: DtypeWarning: Columns (3,8) have mixed types. Specify dtype option on import or set low_memory=False.\n",
      "  df = pd.read_csv('kg.csv')\n"
     ]
    }
   ],
   "source": [
    "graph = {}\n",
    "id2name = {}\n",
    "id2source = {}\n",
    "header2idx = {}\n",
    "rel_id_counter = 0\n",
    "rels = {}\n",
    "edge2src = {}\n",
    "actual_rels = set()\n",
    "\n",
    "def insert_edge(x, y, rel_name, line, header2idx, graph, id2name, \n",
    "                rels, rel_id_counter, edge2source, line_s, id2source, x_name, y_name , x_source, y_source):\n",
    "    if rel_name not in rels:\n",
    "        rels[rel_name] = rel_id_counter\n",
    "        rel_id = 'RIDR' + str(rel_id_counter)\n",
    "        rel_id_counter += 1\n",
    "    else:\n",
    "        rel_id = 'RIDR' + str(rels[rel_name])\n",
    "    \n",
    "    if rel_id in id2name:\n",
    "        if id2name[rel_id] != rel_name:\n",
    "            print(rel_id, id2name[rel_id], rel_name)\n",
    "        assert id2name[rel_id] == rel_name\n",
    "    id2name[rel_id] = rel_name\n",
    "    if x not in graph:\n",
    "        graph[x] = {}\n",
    "    if x not in edge2src:\n",
    "        edge2src[x] = {}\n",
    "    graph[x][y] = rel_id\n",
    "    edge2src[x][y] = line_s\n",
    "    \n",
    "    return graph, rel_id_counter, rels, edge2source, id2name, id2source\n",
    "\n",
    "df = pd.read_csv('kg.csv')"
   ]
  },
  {
   "cell_type": "code",
   "execution_count": 4,
   "metadata": {},
   "outputs": [],
   "source": [
    "for i, row in df.iterrows():\n",
    "    x = 'ENID'+str(row['x_index'])\n",
    "    y = 'ENID'+str(row['y_index'])\n",
    "    x_type = row['x_type']\n",
    "    y_type = row['y_type']\n",
    "    rel_name = row['display_relation']+'_'+y_type\n",
    "    actual_rels.add(row['display_relation'])\n",
    "    x_name = row['x_name']\n",
    "    y_name = row['y_name']\n",
    "    x_source = row['x_source']\n",
    "    y_source = row['y_source']\n",
    "    id2name[x] = f'({x_type}) {x_name}'\n",
    "    id2name[y] = f'({y_type}) {y_name}'\n",
    "    id2source[x] = x_source\n",
    "    id2source[y] = y_source\n",
    "    graph, rel_id_counter, rels, edge2source, id2name, id2source = insert_edge(x, y, rel_name, row, df.columns, graph, id2name, \n",
    "                rels, rel_id_counter, edge2src, row, id2source, x_name, y_name, x_source, y_source)"
   ]
  },
  {
   "cell_type": "code",
   "execution_count": 5,
   "metadata": {},
   "outputs": [],
   "source": [
    "actual_rels = list(actual_rels)\n",
    "new_edgesrc = {}\n",
    "for x in edge2src:\n",
    "    new_edgesrc[x] = {}\n",
    "    for y in edge2src[x]:\n",
    "        new_edgesrc[x][y] = edge2src[x][y].to_dict()\n",
    "edge2src = new_edgesrc"
   ]
  },
  {
   "cell_type": "code",
   "execution_count": 6,
   "metadata": {},
   "outputs": [
    {
     "name": "stdout",
     "output_type": "stream",
     "text": [
      "done\n"
     ]
    }
   ],
   "source": [
    "prime_folder = 'quacer_c_prime'\n",
    "os.makedirs(prime_folder, exist_ok=True)\n",
    "json.dump(graph, open(os.path.join(prime_folder, 'graph.json'), 'w'))\n",
    "json.dump(id2name, open(os.path.join(prime_folder, 'id2name.json'), 'w'))\n",
    "json.dump(id2source, open(os.path.join(prime_folder, 'id2source.json'), 'w'))\n",
    "json.dump(rels, open(os.path.join(prime_folder, 'rels.json'), 'w'))\n",
    "json.dump(edge2src, open(os.path.join(prime_folder, 'edge2src.json'), 'w'))\n",
    "json.dump(actual_rels, open(os.path.join(prime_folder, 'actual_rels.json'), 'w'))\n",
    "print('done')"
   ]
  },
  {
   "cell_type": "code",
   "execution_count": 3,
   "metadata": {},
   "outputs": [],
   "source": [
    "prime_folder = 'quacer_c_prime'\n",
    "actual_rels = json.load(open(os.path.join(prime_folder, 'actual_rels.json')))\n",
    "edge2src = json.load(open(os.path.join(prime_folder, 'edge2src.json')))\n",
    "graph = json.load(open(os.path.join(prime_folder, 'graph.json')))\n",
    "id2name = json.load(open(os.path.join(prime_folder, 'id2name.json')))\n",
    "id2source = json.load(open(os.path.join(prime_folder, 'id2source.json')))\n",
    "rels = json.load(open(os.path.join(prime_folder, 'rels.json')))"
   ]
  },
  {
   "cell_type": "code",
   "execution_count": 4,
   "metadata": {},
   "outputs": [],
   "source": [
    "entity_aliases = {}\n",
    "relation_aliases = {}\n",
    "for k, v in id2name.items():\n",
    "    if k.startswith('RIDR'):\n",
    "        relation_aliases[k] = [v]\n",
    "    else:\n",
    "        entity_aliases[k] = [v]"
   ]
  },
  {
   "cell_type": "code",
   "execution_count": 5,
   "metadata": {},
   "outputs": [
    {
     "data": {
      "text/plain": [
       "{'RIDR0': ['ppi_gene/protein'],\n",
       " 'RIDR1': ['carrier_gene/protein'],\n",
       " 'RIDR2': ['enzyme_gene/protein'],\n",
       " 'RIDR3': ['target_gene/protein'],\n",
       " 'RIDR4': ['transporter_gene/protein'],\n",
       " 'RIDR5': ['contraindication_disease'],\n",
       " 'RIDR6': ['indication_disease'],\n",
       " 'RIDR7': ['off-label use_disease'],\n",
       " 'RIDR8': ['synergistic interaction_drug'],\n",
       " 'RIDR9': ['associated with_effect/phenotype'],\n",
       " 'RIDR10': ['parent-child_effect/phenotype'],\n",
       " 'RIDR11': ['phenotype absent_effect/phenotype'],\n",
       " 'RIDR12': ['phenotype present_effect/phenotype'],\n",
       " 'RIDR13': ['phenotype present_disease'],\n",
       " 'RIDR14': ['associated with_disease'],\n",
       " 'RIDR15': ['parent-child_disease'],\n",
       " 'RIDR16': ['side effect_effect/phenotype'],\n",
       " 'RIDR17': ['parent-child_biological_process'],\n",
       " 'RIDR18': ['parent-child_molecular_function'],\n",
       " 'RIDR19': ['parent-child_cellular_component'],\n",
       " 'RIDR20': ['interacts with_molecular_function'],\n",
       " 'RIDR21': ['interacts with_cellular_component'],\n",
       " 'RIDR22': ['interacts with_biological_process'],\n",
       " 'RIDR23': ['interacts with_gene/protein'],\n",
       " 'RIDR24': ['linked to_disease'],\n",
       " 'RIDR25': ['parent-child_exposure'],\n",
       " 'RIDR26': ['parent-child_pathway'],\n",
       " 'RIDR27': ['interacts with_pathway'],\n",
       " 'RIDR28': ['parent-child_anatomy'],\n",
       " 'RIDR29': ['expression present_anatomy'],\n",
       " 'RIDR30': ['expression absent_anatomy'],\n",
       " 'RIDR31': ['carrier_drug'],\n",
       " 'RIDR32': ['enzyme_drug'],\n",
       " 'RIDR33': ['target_drug'],\n",
       " 'RIDR34': ['transporter_drug'],\n",
       " 'RIDR35': ['contraindication_drug'],\n",
       " 'RIDR36': ['indication_drug'],\n",
       " 'RIDR37': ['off-label use_drug'],\n",
       " 'RIDR38': ['associated with_gene/protein'],\n",
       " 'RIDR39': ['phenotype absent_disease'],\n",
       " 'RIDR40': ['side effect_drug'],\n",
       " 'RIDR41': ['interacts with_exposure'],\n",
       " 'RIDR42': ['linked to_exposure'],\n",
       " 'RIDR43': ['expression present_gene/protein'],\n",
       " 'RIDR44': ['expression absent_gene/protein']}"
      ]
     },
     "execution_count": 5,
     "metadata": {},
     "output_type": "execute_result"
    }
   ],
   "source": [
    "relation_aliases"
   ]
  },
  {
   "cell_type": "code",
   "execution_count": 6,
   "metadata": {},
   "outputs": [
    {
     "data": {
      "text/plain": [
       "27000"
      ]
     },
     "execution_count": 6,
     "metadata": {},
     "output_type": "execute_result"
    }
   ],
   "source": [
    "len('{source} has protein-protein interaction with {target}') * 500"
   ]
  },
  {
   "cell_type": "code",
   "execution_count": 7,
   "metadata": {},
   "outputs": [],
   "source": [
    "def get_relation_template(relation_id):\n",
    "    relation_templates = {\n",
    "        # Gene/protein interactions\n",
    "        'RIDR0': \"{source} has protein-protein interaction with {target}\",  # ppi_gene/protein\n",
    "        'RIDR1': \"{target} is a carrier of {source}\",  # carrier_gene/protein\n",
    "        'RIDR2': \"{target} is an enzyme of {source}\",  # enzyme_gene/protein\n",
    "        'RIDR3': \"{target} is a target of {source}\",  # target_gene/protein\n",
    "        'RIDR4': \"{target} is a transporter of {source}\",  # transporter_gene/protein\n",
    "        \n",
    "        # Drug-disease relationships\n",
    "        'RIDR5': \"{target} is contraindicated for {source}\",  # contraindication_disease drug->disease\n",
    "        'RIDR6': \"{target} is indicated for {source}\",  # indication_disease\n",
    "        'RIDR7': \"{source} is used off-label for {target}\",  # off-label use_disease\n",
    "        \n",
    "        # Drug interactions\n",
    "        'RIDR8': \"{source} has synergistic interaction with {target}\",  # synergistic interaction_drug\n",
    "        \n",
    "        # Effect/phenotype relationships\n",
    "        'RIDR9': \"{target} is associated with {source}\",  # associated with_effect/phenotype\n",
    "        'RIDR10': \"{target} includes {source}\",  # parent-child_effect/phenotype\n",
    "        'RIDR11': \"{target} is absent in {source}\",  # phenotype absent_effect/phenotype\n",
    "        'RIDR12': \"{target} is present in {source}\",  # phenotype present_effect/phenotype\n",
    "        'RIDR13': \"{target} is present in {source}\",  # phenotype present_disease\n",
    "        'RIDR14': \"{target} is associated with {source}\",  # associated with_disease\n",
    "        'RIDR15': \"{target} includes {source}\",  # parent-child_disease\n",
    "        'RIDR16': \"{target} is a side effect of {source}\",  # side effect_effect/phenotype\n",
    "        \n",
    "        # Biological process relationships\n",
    "        'RIDR17': \"{target} includes {source}\",  # parent-child_biological_process\n",
    "        'RIDR18': \"{target} includes {source}\",  # parent-child_molecular_function\n",
    "        'RIDR19': \"{target} contains {source}\",  # parent-child_cellular_component\n",
    "        'RIDR20': \"{target} interacts with {source}\",  # interacts with_molecular_function\n",
    "        'RIDR21': \"{target} interacts with {source}\",  # interacts with_cellular_component\n",
    "        'RIDR22': \"{target} interacts with {source}\",  # interacts with_biological_process\n",
    "        'RIDR23': \"{target} interacts with {source}\",  # interacts with_gene/protein\n",
    "        \n",
    "        # Disease and pathway relationships\n",
    "        'RIDR24': \"{target} is linked to {source}\",  # linked to_disease\n",
    "        'RIDR25': \"{target} includes {source}\",  # parent-child_exposure\n",
    "        'RIDR26': \"{target} includes {source}\",  # parent-child_pathway\n",
    "        'RIDR27': \"{target} interacts with {source}\",  # interacts with_pathway\n",
    "        \n",
    "        # Anatomical relationships\n",
    "        'RIDR28': \"{target} contains {source}\",  # parent-child_anatomy\n",
    "        'RIDR29': \"{source} is expressed in {target}\",  # expression present_anatomy\n",
    "        'RIDR30': \"{source} is not expressed in {target}\",  # expression absent_anatomy\n",
    "        \n",
    "        # Drug mechanism relationships\n",
    "        'RIDR31': \"{target} is a carrier of {source}\",  # carrier_drug\n",
    "        'RIDR32': \"{target} is an enzyme of {source}\",  # enzyme_drug\n",
    "        'RIDR33': \"{target} is a target of {source}\",  # target_drug\n",
    "        'RIDR34': \"{target} is a transporter of {source}\",  # transporter_drug\n",
    "        'RIDR35': \"{source} is contraindicated for {target}\",  # contraindication_drug\n",
    "        'RIDR36': \"{source} is indicated for {target}\",  # indication_drug\n",
    "        'RIDR37': \"{target} is used off-label for {source}\",  # off-label use_drug\n",
    "        \n",
    "        # Additional relationships\n",
    "        'RIDR38': \"{target} is associated with {source}\",  # associated with_gene/protein\n",
    "        'RIDR39': \"{target} is absent in {source}\",  # phenotype absent_disease\n",
    "        'RIDR40': \"{source} is a side effect of {target}\",  # side effect_drug\n",
    "        'RIDR41': \"{target} interacts with {source}\",  # interacts with_exposure\n",
    "        'RIDR42': \"{target} is linked to {source}\",  # linked to_exposure\n",
    "        'RIDR43': \"{target} is expressed by {source}\",  # expression present_gene/protein\n",
    "        'RIDR44': \"{target} is not expressed by {source}\",  # expression absent_gene/protein\n",
    "    }\n",
    "    return relation_templates.get(relation_id, \"{source} relates to {target}\")\n",
    "\n",
    "def create_graph_text_edge(graph, id2name):\n",
    "    graph_text_edge = {}\n",
    "    for source in graph:\n",
    "        graph_text_edge[source] = {}\n",
    "        for target in graph[source]:\n",
    "            relation_id = graph[source][target]\n",
    "            template = get_relation_template(relation_id)\n",
    "            if source not in id2name:\n",
    "                print(source)\n",
    "                print(target)\n",
    "                print(relation_id)\n",
    "            if target not in id2name:\n",
    "                print(source)\n",
    "                print(target)\n",
    "                print(relation_id)\n",
    "            sentence = template.format(\n",
    "                source=id2name[source],\n",
    "                target=id2name[target]\n",
    "            )\n",
    "            graph_text_edge[source][target] = [sentence]\n",
    "    \n",
    "    return graph_text_edge\n",
    "graph_text_edge = create_graph_text_edge(graph, id2name)\n",
    "json.dump(graph_text_edge, open(os.path.join(prime_folder, 'graph_text_edge.json'), 'w'), indent=4)"
   ]
  },
  {
   "cell_type": "code",
   "execution_count": 8,
   "metadata": {},
   "outputs": [],
   "source": [
    "# graph_text_edge = {}\n",
    "# for x in graph:\n",
    "#     graph_text_edge[x] = {}\n",
    "#     for y in graph[x]:\n",
    "#         sent = f'{id2name[x]} is related to {id2name[y]} by {id2name[graph[x][y]]}'\n",
    "#         graph_text_edge[x][y] = [sent]\n",
    "\n",
    "# list(list(graph_text_edge.values())[0].values())[:5]"
   ]
  },
  {
   "cell_type": "code",
   "execution_count": 9,
   "metadata": {},
   "outputs": [],
   "source": [
    "with open(os.path.join(prime_folder, 'graph_text_edge.json'), 'w') as f:\n",
    "    json.dump(graph_text_edge, f)"
   ]
  },
  {
   "cell_type": "code",
   "execution_count": 6,
   "metadata": {},
   "outputs": [
    {
     "name": "stdout",
     "output_type": "stream",
     "text": [
      "Path: ['ENID64792', 'ENID64789', 'ENID69787', 'ENID66289', 'ENID71697']\n",
      "Possible Paths: 101\n",
      "(anatomy) dura mater->(parent-child_anatomy) ->(parent-child_anatomy) ->(parent-child_anatomy) ->(parent-child_anatomy) ->?\n",
      "['(anatomy) dura mater', '(anatomy) meninx', '(anatomy) structure with developmental contribution from neural crest', '(anatomy) branchiomeric muscle', '(anatomy) levator arcuum muscle'] ['ENID64792', 'ENID64789', 'ENID69787', 'ENID66289', 'ENID71697']\n",
      "Path: ['ENID29827', 'ENID22587', 'ENID22553']\n",
      "Possible Paths: 23\n",
      "(disease) nevus anemicus (disease)->(phenotype present_effect/phenotype) ->(parent-child_effect/phenotype) ->?\n",
      "['(disease) nevus anemicus (disease)', '(effect/phenotype) Capillary malformation', '(effect/phenotype) Localized skin lesion'] ['ENID29827', 'ENID22587', 'ENID22553']\n",
      "Path: ['ENID20541', 'ENID17539']\n",
      "Possible Paths: 6\n",
      "(drug) Plicamycin->(synergistic interaction_drug) ->?\n",
      "['(drug) Plicamycin', '(drug) Peginesatide'] ['ENID20541', 'ENID17539']\n",
      "Path: ['ENID96447', 'ENID32188', 'ENID93496', 'ENID27530', 'ENID24323']\n",
      "Possible Paths: 204\n",
      "(disease) cerebellar hemangioblastoma->(parent-child_disease) ->(phenotype present_effect/phenotype) ->(phenotype present_disease) ->(phenotype present_effect/phenotype) ->?\n",
      "['(disease) cerebellar hemangioblastoma', '(disease) hemangioblastoma', '(effect/phenotype) Trigeminal neuralgia', '(disease) Charcot-Marie-Tooth disease', '(effect/phenotype) Horizontal nystagmus'] ['ENID96447', 'ENID32188', 'ENID93496', 'ENID27530', 'ENID24323']\n",
      "Path: ['ENID87171', 'ENID29989', 'ENID87232']\n",
      "Possible Paths: 30\n",
      "(effect/phenotype) Patchy atrophy of the retinal pigment epithelium->(phenotype present_disease) ->(phenotype present_effect/phenotype) ->?\n",
      "['(effect/phenotype) Patchy atrophy of the retinal pigment epithelium', '(disease) retinitis pigmentosa-juvenile cataract-short stature-intellectual disability syndrome', '(effect/phenotype) Undetectable visual evoked potentials'] ['ENID87171', 'ENID29989', 'ENID87232']\n"
     ]
    }
   ],
   "source": [
    "qa_algos = GraphAlgos(graph, entity_aliases, relation_aliases, allow_multiple_ans=True)\n",
    "for i in range(5):\n",
    "    query_results = qa_algos.generate_random_query(4, return_path=True)\n",
    "    question_data, source, correct_answers, path_ids = query_results\n",
    "    question = question_data[0]\n",
    "    print(question)\n",
    "    print([id2name[id] for id in path_ids], path_ids)"
   ]
  },
  {
   "cell_type": "code",
   "execution_count": 7,
   "metadata": {},
   "outputs": [
    {
     "name": "stdout",
     "output_type": "stream",
     "text": [
      "RIDR9 ['associated with_effect/phenotype']\n",
      "RIDR10 ['parent-child_effect/phenotype']\n",
      "RIDR11 ['phenotype absent_effect/phenotype']\n",
      "RIDR12 ['phenotype present_effect/phenotype']\n",
      "RIDR13 ['phenotype present_disease']\n",
      "RIDR16 ['side effect_effect/phenotype']\n",
      "RIDR39 ['phenotype absent_disease']\n"
     ]
    }
   ],
   "source": [
    "for rel_id, rel_name in relation_aliases.items():\n",
    "    if 'phenotype' in rel_name[0]:\n",
    "        print(rel_id, rel_name)"
   ]
  },
  {
   "cell_type": "code",
   "execution_count": 6,
   "metadata": {},
   "outputs": [
    {
     "name": "stdout",
     "output_type": "stream",
     "text": [
      "ENID27160 12\n"
     ]
    }
   ],
   "source": [
    "start_id = 27160\n",
    "verts = {}\n",
    "add = 0\n",
    "while add < 100:\n",
    "    start_id += add\n",
    "    add +=1\n",
    "    vert = 'ENID' + str(start_id)\n",
    "    verts[vert] = len(graph[vert])\n",
    "verts_l = sorted(list(verts.keys()), key=lambda x: x[1], reverse=True)\n",
    "for vert in verts_l:\n",
    "    print(vert, len(graph[vert]))\n",
    "    break"
   ]
  },
  {
   "cell_type": "code",
   "execution_count": 7,
   "metadata": {},
   "outputs": [
    {
     "name": "stdout",
     "output_type": "stream",
     "text": [
      "12 ENID27160 congenital stationary night blindness autosomal dominant MONDO_grouped\n",
      "Path: ['ENID27160', 'ENID87156', 'ENID24394']\n",
      "Possible Paths: 23\n",
      "congenital stationary night blindness autosomal dominant->(phenotype present_effect/phenotype) ->(parent-child_effect/phenotype) ->?\n",
      "['congenital stationary night blindness autosomal dominant', 'Bone spicule pigmentation of the retina', 'Pigmentary retinopathy']\n",
      "Path: ['ENID27160', 'ENID35655', 'ENID29888', 'ENID2278']\n",
      "Possible Paths: 150\n",
      "congenital stationary night blindness autosomal dominant->(parent-child_disease) ->(parent-child_disease) ->(associated with_gene/protein) ->?\n",
      "['congenital stationary night blindness autosomal dominant', 'autosomal dominant disease', 'centronuclear myopathy', 'TPM2']\n",
      "Path: ['ENID27160', 'ENID22759']\n",
      "Possible Paths: 6\n",
      "congenital stationary night blindness autosomal dominant->(phenotype present_effect/phenotype) ->?\n",
      "['congenital stationary night blindness autosomal dominant', 'Autosomal dominant inheritance']\n",
      "Path: ['ENID27160', 'ENID22759']\n",
      "Possible Paths: 6\n",
      "congenital stationary night blindness autosomal dominant->(phenotype present_effect/phenotype) ->?\n",
      "['congenital stationary night blindness autosomal dominant', 'Autosomal dominant inheritance']\n",
      "Path: ['ENID27160', 'ENID22328', 'ENID27450', 'ENID84587']\n",
      "Possible Paths: 103\n",
      "congenital stationary night blindness autosomal dominant->(phenotype absent_effect/phenotype) ->(phenotype present_disease) ->(phenotype present_effect/phenotype) ->?\n",
      "['congenital stationary night blindness autosomal dominant', 'Abnormal fundus morphology', 'peroxisome biogenesis disorder', 'Triangular face']\n"
     ]
    }
   ],
   "source": [
    "en_id = 'ENID27160'\n",
    "all_path_ids = []\n",
    "print(len(graph[en_id]), en_id, id2name[en_id], id2source[en_id])\n",
    "for i in range(5):\n",
    "    query_results = qa_algos.generate_random_query(4, return_path=True,source=en_id)\n",
    "    question_data, source, correct_answers, path_ids = query_results\n",
    "    question = question_data[0]\n",
    "    print(question) \n",
    "    print([id2name[id] for id in path_ids])\n",
    "    all_path_ids.append(path_ids)"
   ]
  },
  {
   "cell_type": "code",
   "execution_count": 8,
   "metadata": {},
   "outputs": [
    {
     "name": "stdout",
     "output_type": "stream",
     "text": [
      "disease_phenotype_positive,phenotype present,27160,8099_12497_12498,disease,congenital stationary night blindness autosomal dominant,MONDO_grouped,22759,6,effect/phenotype,Autosomal dominant inheritance,HPO\n",
      "\n"
     ]
    }
   ],
   "source": [
    "path_ids = all_path_ids[2]\n",
    "for i in range(len(path_ids)-1):\n",
    "    node1 = path_ids[i]\n",
    "    node2 = path_ids[i+1]\n",
    "    print(edge2src[node1][node2])"
   ]
  },
  {
   "cell_type": "code",
   "execution_count": 9,
   "metadata": {},
   "outputs": [
    {
     "data": {
      "text/plain": [
       "{'associated with',\n",
       " 'carrier',\n",
       " 'contraindication',\n",
       " 'enzyme',\n",
       " 'expression absent',\n",
       " 'expression present',\n",
       " 'indication',\n",
       " 'interacts with',\n",
       " 'linked to',\n",
       " 'off-label use',\n",
       " 'parent-child',\n",
       " 'phenotype absent',\n",
       " 'phenotype present',\n",
       " 'ppi',\n",
       " 'side effect',\n",
       " 'synergistic interaction',\n",
       " 'target',\n",
       " 'transporter'}"
      ]
     },
     "execution_count": 9,
     "metadata": {},
     "output_type": "execute_result"
    }
   ],
   "source": [
    "actual_rels"
   ]
  },
  {
   "cell_type": "code",
   "execution_count": 12,
   "metadata": {},
   "outputs": [
    {
     "data": {
      "text/plain": [
       "{'RIDR0': ['ppi_gene/protein'],\n",
       " 'RIDR1': ['carrier_gene/protein'],\n",
       " 'RIDR2': ['enzyme_gene/protein'],\n",
       " 'RIDR3': ['target_gene/protein'],\n",
       " 'RIDR4': ['transporter_gene/protein'],\n",
       " 'RIDR5': ['contraindication_disease'],\n",
       " 'RIDR6': ['indication_disease'],\n",
       " 'RIDR7': ['off-label use_disease'],\n",
       " 'RIDR8': ['synergistic interaction_drug'],\n",
       " 'RIDR9': ['associated with_effect/phenotype'],\n",
       " 'RIDR10': ['parent-child_effect/phenotype'],\n",
       " 'RIDR11': ['phenotype absent_effect/phenotype'],\n",
       " 'RIDR12': ['phenotype present_effect/phenotype'],\n",
       " 'RIDR13': ['phenotype present_disease'],\n",
       " 'RIDR14': ['associated with_disease'],\n",
       " 'RIDR15': ['parent-child_disease'],\n",
       " 'RIDR16': ['side effect_effect/phenotype'],\n",
       " 'RIDR17': ['parent-child_biological_process'],\n",
       " 'RIDR18': ['parent-child_molecular_function'],\n",
       " 'RIDR19': ['parent-child_cellular_component'],\n",
       " 'RIDR20': ['interacts with_molecular_function'],\n",
       " 'RIDR21': ['interacts with_cellular_component'],\n",
       " 'RIDR22': ['interacts with_biological_process'],\n",
       " 'RIDR23': ['interacts with_gene/protein'],\n",
       " 'RIDR24': ['linked to_disease'],\n",
       " 'RIDR25': ['parent-child_exposure'],\n",
       " 'RIDR26': ['parent-child_pathway'],\n",
       " 'RIDR27': ['interacts with_pathway'],\n",
       " 'RIDR28': ['parent-child_anatomy'],\n",
       " 'RIDR29': ['expression present_anatomy'],\n",
       " 'RIDR30': ['expression absent_anatomy'],\n",
       " 'RIDR31': ['carrier_drug'],\n",
       " 'RIDR32': ['enzyme_drug'],\n",
       " 'RIDR33': ['target_drug'],\n",
       " 'RIDR34': ['transporter_drug'],\n",
       " 'RIDR35': ['contraindication_drug'],\n",
       " 'RIDR36': ['indication_drug'],\n",
       " 'RIDR37': ['off-label use_drug'],\n",
       " 'RIDR38': ['associated with_gene/protein'],\n",
       " 'RIDR39': ['phenotype absent_disease'],\n",
       " 'RIDR40': ['side effect_drug'],\n",
       " 'RIDR41': ['interacts with_exposure'],\n",
       " 'RIDR42': ['linked to_exposure'],\n",
       " 'RIDR43': ['expression present_gene/protein'],\n",
       " 'RIDR44': ['expression absent_gene/protein']}"
      ]
     },
     "execution_count": 12,
     "metadata": {},
     "output_type": "execute_result"
    }
   ],
   "source": [
    "relation_aliases"
   ]
  },
  {
   "cell_type": "code",
   "execution_count": 9,
   "metadata": {},
   "outputs": [
    {
     "data": {
      "text/plain": [
       "4647"
      ]
     },
     "execution_count": 9,
     "metadata": {},
     "output_type": "execute_result"
    }
   ],
   "source": [
    "pheno_diseases = {}\n",
    "drug_conflict_diseases = {}\n",
    "conflict_diseases_drugs = {}\n",
    "for node1, node_data in graph.items():\n",
    "    if id2name[node1].startswith('(effect/phenotype)'):\n",
    "        pheno_diseases[node1] = []\n",
    "        for node2, rel_id in node_data.items():\n",
    "            if rel_id == 'RIDR13':\n",
    "                pheno_diseases[node1].append(node2)\n",
    "    if id2name[node1].startswith('(drug)'):\n",
    "        drug_conflict_diseases[node1] = []\n",
    "        drug_indications = []\n",
    "        drug_contraindications = []\n",
    "        for node2, rel_id in node_data.items():\n",
    "            if rel_id == 'RIDR5':\n",
    "                drug_contraindications.append(node2)\n",
    "            if rel_id == 'RIDR6':\n",
    "                drug_indications.append(node2)\n",
    "        for indication in drug_indications:\n",
    "            for contraindication in drug_contraindications:\n",
    "                drug_conflict_diseases[node1].append((indication, contraindication))\n",
    "                if (indication, contraindication) not in conflict_diseases_drugs:\n",
    "                    conflict_diseases_drugs[(indication, contraindication)] = []\n",
    "                conflict_diseases_drugs[(indication, contraindication)].append(node1)\n",
    "\n",
    "num_queries = 0\n",
    "for pheno, diseases in pheno_diseases.items():\n",
    "    for i in range(len(diseases)):\n",
    "        disease1 = diseases[i]\n",
    "        for j in range(i+1, len(diseases)):\n",
    "            disease2 = diseases[j]\n",
    "            if (disease1, disease2) in conflict_diseases_drugs:\n",
    "                num_queries += 1\n",
    "            elif (disease2, disease1) in conflict_diseases_drugs:\n",
    "                num_queries += 1\n",
    "num_queries #Q7"
   ]
  },
  {
   "cell_type": "code",
   "execution_count": 10,
   "metadata": {},
   "outputs": [
    {
     "data": {
      "text/plain": [
       "85608"
      ]
     },
     "execution_count": 10,
     "metadata": {},
     "output_type": "execute_result"
    }
   ],
   "source": [
    "len(conflict_diseases_drugs) #Q2"
   ]
  },
  {
   "cell_type": "code",
   "execution_count": 12,
   "metadata": {},
   "outputs": [
    {
     "data": {
      "text/plain": [
       "132970"
      ]
     },
     "execution_count": 12,
     "metadata": {},
     "output_type": "execute_result"
    }
   ],
   "source": [
    "drug_conflict_diseases = {}\n",
    "check_again = []\n",
    "for node1, node_data in graph.items():\n",
    "    if id2name[node1].startswith('(disease)'):\n",
    "        indications = []\n",
    "        contraindications = []\n",
    "        for node2, rel_id in node_data.items():\n",
    "            if rel_id == 'RIDR35':\n",
    "                contraindications.append(node2)\n",
    "            if rel_id == 'RIDR36':\n",
    "                indications.append(node2)\n",
    "        for indication in indications:\n",
    "            for contraindication in contraindications:\n",
    "                if indication == contraindication:\n",
    "                    check_again.append((node1, indication, contraindication))\n",
    "                    continue\n",
    "                if (indication, contraindication) not in drug_conflict_diseases:\n",
    "                    drug_conflict_diseases[(indication, contraindication)] = []\n",
    "                drug_conflict_diseases[(indication, contraindication)].append(node1)\n",
    "len(drug_conflict_diseases) #Q8"
   ]
  },
  {
   "cell_type": "code",
   "execution_count": 15,
   "metadata": {},
   "outputs": [
    {
     "data": {
      "text/plain": [
       "25491"
      ]
     },
     "execution_count": 15,
     "metadata": {},
     "output_type": "execute_result"
    }
   ],
   "source": [
    "drug_diseases_indi_off = {}\n",
    "for node1, node_data in graph.items():\n",
    "    if id2name[node1].startswith('(drug)'):\n",
    "        indications = []\n",
    "        off_label = []\n",
    "        for node2, rel_id in node_data.items():\n",
    "            if rel_id == 'RIDR6':\n",
    "                indications.append(node2)\n",
    "            if rel_id == 'RIDR7':\n",
    "                off_label.append(node2)\n",
    "        for indication in indications:\n",
    "            for off in off_label:\n",
    "                if indication == off:\n",
    "                    continue\n",
    "                if (indication, off) not in drug_diseases_indi_off:\n",
    "                    drug_diseases_indi_off[(indication, off)] = []\n",
    "                drug_diseases_indi_off[(indication, off)].append(node1)\n",
    "len(drug_diseases_indi_off) #Q3"
   ]
  },
  {
   "cell_type": "code",
   "execution_count": 17,
   "metadata": {},
   "outputs": [
    {
     "data": {
      "text/plain": [
       "(38941, 120575)"
      ]
     },
     "execution_count": 17,
     "metadata": {},
     "output_type": "execute_result"
    }
   ],
   "source": [
    "drug_double_indi = {}\n",
    "for node1, node_data in graph.items():\n",
    "    if id2name[node1].startswith('(drug)'):\n",
    "        indications = []\n",
    "        for node2, rel_id in node_data.items():\n",
    "            if rel_id == 'RIDR6':\n",
    "                indications.append(node2)\n",
    "        indications = list(set(indications))\n",
    "        for i in range(len(indications)):\n",
    "            for j in range(i+1, len(indications)):\n",
    "                if (indications[i], indications[j]) not in drug_double_indi:\n",
    "                    drug_double_indi[(indications[i], indications[j])] = []\n",
    "                drug_double_indi[(indications[i], indications[j])].append(node1)\n",
    "answer_total = 0\n",
    "for k, v in drug_double_indi.items():\n",
    "    answer_total += len(v)\n",
    "len(drug_double_indi), answer_total #Q4"
   ]
  },
  {
   "cell_type": "code",
   "execution_count": 21,
   "metadata": {},
   "outputs": [
    {
     "ename": "KeyboardInterrupt",
     "evalue": "",
     "output_type": "error",
     "traceback": [
      "\u001b[1;31m---------------------------------------------------------------------------\u001b[0m",
      "\u001b[1;31mKeyboardInterrupt\u001b[0m                         Traceback (most recent call last)",
      "Cell \u001b[1;32mIn[21], line -1\u001b[0m\n\u001b[0;32m      0\u001b[0m <Error retrieving source code with stack_data see ipython/ipython#13598>\n",
      "\u001b[1;31mKeyboardInterrupt\u001b[0m: "
     ]
    }
   ],
   "source": [
    "disease_drug_rels = {}\n",
    "for node1, node_data in graph.items():\n",
    "    if id2name[node1].startswith('(disease)'):\n",
    "        indications = []\n",
    "        for node2, rel_id in node_data.items():\n",
    "            if rel_id == 'RIDR36':\n",
    "                indications.append(node2)\n",
    "        synergestics = []\n",
    "        synergestics_diseases = {}\n",
    "        syner2drug = {}\n",
    "        for indica in indications:\n",
    "            for node2, rel_id in graph[indica].items():\n",
    "                if rel_id == 'RIDR8':\n",
    "                    synergestics.append(node2)\n",
    "                    if node2 not in syner2drug:\n",
    "                        syner2drug[node2] = []\n",
    "                    syner2drug[node2].append(indica)\n",
    "            \n",
    "        for synergestic in synergestics:\n",
    "            if synergestic not in synergestics_diseases:\n",
    "                synergestics_diseases[synergestic] = []\n",
    "            for node2, rel_id in graph[synergestic].items():\n",
    "                if rel_id == 'RIDR6':\n",
    "                    synergestics_diseases[synergestic].append(node1)\n",
    "        for synergestic in synergestics_diseases:\n",
    "            disease_drug_rels[(node1, synergestic)] = syner2drug[synergestic]\n",
    "answer_total = 0\n",
    "for k, v in disease_drug_rels.items():\n",
    "    answer_total += len(v)\n",
    "len(disease_drug_rels), answer_total #Q5"
   ]
  },
  {
   "cell_type": "code",
   "execution_count": 29,
   "metadata": {},
   "outputs": [
    {
     "data": {
      "text/plain": [
       "16312"
      ]
     },
     "execution_count": 29,
     "metadata": {},
     "output_type": "execute_result"
    }
   ],
   "source": [
    "rel33_edges = []\n",
    "for node1, node_data in graph.items():\n",
    "    for node2, rel_id in node_data.items():\n",
    "        if rel_id == 'RIDR33':\n",
    "            rel33_edges.append((node1, node2))\n",
    "len(rel33_edges) #Q6"
   ]
  },
  {
   "cell_type": "code",
   "execution_count": 36,
   "metadata": {},
   "outputs": [
    {
     "data": {
      "text/plain": [
       "(32783, 339312)"
      ]
     },
     "execution_count": 36,
     "metadata": {},
     "output_type": "execute_result"
    }
   ],
   "source": [
    "gene_diseases2drug = {}\n",
    "for node1, node_data in graph.items():\n",
    "    if id2name[node1].startswith('(disease)'):\n",
    "        genes = []\n",
    "        for node2, rel_id in node_data.items():\n",
    "            if rel_id == 'RIDR38':\n",
    "                genes.append(node2)\n",
    "        gene2drugs = {}\n",
    "        for gene in genes:\n",
    "            for node2, rel_id in graph[gene].items():\n",
    "                if rel_id == 'RIDR33':\n",
    "                    if gene not in gene2drugs:\n",
    "                        gene2drugs[gene] = []\n",
    "                    gene2drugs[gene].append(node2)\n",
    "        for gene in gene2drugs:\n",
    "            if (node1, gene) not in gene_diseases2drug:\n",
    "                gene_diseases2drug[(node1, gene)] = []\n",
    "            gene_diseases2drug[(node1, gene)].extend(gene2drugs[gene])\n",
    "\n",
    "answer_total = 0\n",
    "for k, v in gene_diseases2drug.items():\n",
    "    answer_total += len(v)\n",
    "len(gene_diseases2drug), answer_total #Q6"
   ]
  },
  {
   "cell_type": "code",
   "execution_count": null,
   "metadata": {},
   "outputs": [],
   "source": []
  }
 ],
 "metadata": {
  "kernelspec": {
   "display_name": "Python 3",
   "language": "python",
   "name": "python3"
  },
  "language_info": {
   "codemirror_mode": {
    "name": "ipython",
    "version": 3
   },
   "file_extension": ".py",
   "mimetype": "text/x-python",
   "name": "python",
   "nbconvert_exporter": "python",
   "pygments_lexer": "ipython3",
   "version": "3.10.8"
  }
 },
 "nbformat": 4,
 "nbformat_minor": 2
}
