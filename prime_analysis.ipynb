{
 "cells": [
  {
   "cell_type": "code",
   "execution_count": 1,
   "metadata": {},
   "outputs": [
    {
     "name": "stderr",
     "output_type": "stream",
     "text": [
      "/apps/conda/isha/envs/quacer-b/lib/python3.10/site-packages/tqdm/auto.py:21: TqdmWarning: IProgress not found. Please update jupyter and ipywidgets. See https://ipywidgets.readthedocs.io/en/stable/user_install.html\n",
      "  from .autonotebook import tqdm as notebook_tqdm\n",
      "/apps/conda/isha/envs/quacer-b/lib/python3.10/site-packages/transformers/utils/hub.py:128: FutureWarning: Using `TRANSFORMERS_CACHE` is deprecated and will be removed in v5 of Transformers. Use `HF_HOME` instead.\n",
      "  warnings.warn(\n",
      "/apps/conda/isha/envs/quacer-b/lib/python3.10/site-packages/torchvision/io/image.py:13: UserWarning: Failed to load image Python extension: '/apps/conda/isha/envs/quacer-b/lib/python3.10/site-packages/torchvision/image.so: undefined symbol: _ZN3c1017RegisterOperatorsD1Ev'If you don't plan on using image functionality from `torchvision.io`, you can ignore this warning. Otherwise, there might be something wrong with your environment. Did you have `libjpeg` or `libpng` installed before building `torchvision` from source?\n",
      "  warn(\n",
      "/apps/conda/isha/envs/quacer-b/lib/python3.10/site-packages/torchvision/datapoints/__init__.py:12: UserWarning: The torchvision.datapoints and torchvision.transforms.v2 namespaces are still Beta. While we do not expect major breaking changes, some APIs may still change according to user feedback. Please submit any feedback you may have in this issue: https://github.com/pytorch/vision/issues/6753, and you can also check out https://github.com/pytorch/vision/issues/7319 to learn more about the APIs that we suspect might involve future changes. You can silence this warning by calling torchvision.disable_beta_transforms_warning().\n",
      "  warnings.warn(_BETA_TRANSFORMS_WARNING)\n",
      "/apps/conda/isha/envs/quacer-b/lib/python3.10/site-packages/torchvision/transforms/v2/__init__.py:54: UserWarning: The torchvision.datapoints and torchvision.transforms.v2 namespaces are still Beta. While we do not expect major breaking changes, some APIs may still change according to user feedback. Please submit any feedback you may have in this issue: https://github.com/pytorch/vision/issues/6753, and you can also check out https://github.com/pytorch/vision/issues/7319 to learn more about the APIs that we suspect might involve future changes. You can silence this warning by calling torchvision.disable_beta_transforms_warning().\n",
      "  warnings.warn(_BETA_TRANSFORMS_WARNING)\n"
     ]
    }
   ],
   "source": [
    "import os\n",
    "import json\n",
    "from QuaCer_CAnon.utils import *\n"
   ]
  },
  {
   "cell_type": "code",
   "execution_count": 49,
   "metadata": {},
   "outputs": [],
   "source": [
    "graph = {}\n",
    "id2name = {}\n",
    "id2source = {}\n",
    "header2idx = {}\n",
    "rel_id_counter = 0\n",
    "rels = {}\n",
    "edge2src = {}\n",
    "\n",
    "def insert_edge(x, y, rel_name, line, header2idx, graph, id2name, \n",
    "                rels, rel_id_counter, edge2source, line_s, id2source, x_name, y_name , x_source, y_source):\n",
    "    if rel_name not in rels:\n",
    "        rels[rel_name] = rel_id_counter\n",
    "        rel_id = 'RIDR' + str(rel_id_counter)\n",
    "        rel_id_counter += 1\n",
    "    else:\n",
    "        rel_id = 'RIDR' + str(rels[rel_name])\n",
    "    \n",
    "    if rel_id in id2name:\n",
    "        if id2name[rel_id] != rel_name:\n",
    "            print(rel_id, id2name[rel_id], rel_name)\n",
    "        assert id2name[rel_id] == rel_name\n",
    "    id2name[rel_id] = rel_name\n",
    "    if x not in graph:\n",
    "        graph[x] = {}\n",
    "    if x not in edge2src:\n",
    "        edge2src[x] = {}\n",
    "    graph[x][y] = rel_id\n",
    "    edge2src[x][y] = line_s\n",
    "    \n",
    "    return graph, rel_id_counter, rels, edge2source, id2name, id2source\n",
    "\n",
    "with open('kg.csv', 'r') as f:\n",
    "    lines = f.readlines()\n",
    "    headers = lines[0].strip().split(',')\n",
    "    for i, header in enumerate(headers):\n",
    "        header2idx[header] = i\n",
    "    for line_s in lines[1:]:\n",
    "        line = line_s.strip().split(',')\n",
    "        line = [l.strip() for l in line]\n",
    "        x = 'ENID'+str(line[header2idx['x_index']])\n",
    "        y = 'ENID'+str(line[header2idx['y_index']])\n",
    "        x_type = line[header2idx['x_type']]\n",
    "        y_type = line[header2idx['y_type']]\n",
    "        rel_name = line[header2idx['display_relation']]+'_'+y_type\n",
    "        x_name = line[header2idx['x_name']]\n",
    "        y_name = line[header2idx['y_name']]\n",
    "        x_source = line[header2idx['x_source']]\n",
    "        y_source = line[header2idx['y_source']]\n",
    "        id2name[x] = x_name\n",
    "        id2name[y] = y_name\n",
    "        id2source[x] = x_source\n",
    "        id2source[y] = y_source\n",
    "        graph, rel_id_counter, rels, edge2source, id2name, id2source = insert_edge(x, y, rel_name, line, header2idx, graph, id2name, \n",
    "                    rels, rel_id_counter, edge2src, line_s, id2source, x_name, y_name, x_source, y_source)\n",
    "        # if x_type != y_type:\n",
    "        #     rel_name = line[header2idx['display_relation']]+'_'+x_type\n",
    "        #     graph, rel_id_counter, rels, edge2source, id2name, id2source = insert_edge(y, x, rel_name, line, header2idx, graph, id2name, rels, \n",
    "        #                 rel_id_counter, edge2src, line_s, id2source, y_name, x_name, y_source, x_source)"
   ]
  },
  {
   "cell_type": "code",
   "execution_count": 50,
   "metadata": {},
   "outputs": [],
   "source": [
    "entity_aliases = {}\n",
    "relation_aliases = {}\n",
    "for k, v in id2name.items():\n",
    "    if k.startswith('RIDR'):\n",
    "        relation_aliases[k] = [v]\n",
    "    else:\n",
    "        entity_aliases[k] = [v]"
   ]
  },
  {
   "cell_type": "code",
   "execution_count": 51,
   "metadata": {},
   "outputs": [
    {
     "name": "stdout",
     "output_type": "stream",
     "text": [
      "Path: ['ENID50401', 'ENID51250', 'ENID111868', 'ENID51249']\n",
      "Possible Paths: 69\n",
      "fungal-type cell wall (1->3)-beta-D-glucan metabolic process->(parent-child_biological_process) ->(parent-child_biological_process) ->(parent-child_biological_process) ->?\n",
      "['fungal-type cell wall (1->3)-beta-D-glucan metabolic process', 'fungal-type cell wall (1->3)-beta-D-glucan biosynthetic process', 'ascospore wall (1->3)-beta-D-glucan biosynthetic process', 'ascospore wall (1->3)-beta-D-glucan metabolic process'] ['ENID50401', 'ENID51250', 'ENID111868', 'ENID51249']\n",
      "Path: ['ENID88166', 'ENID25127']\n",
      "Possible Paths: 2\n",
      "Triangular epiphysis of the distal phalanx of the hallux->(parent-child_effect/phenotype) ->?\n",
      "['Triangular epiphysis of the distal phalanx of the hallux', 'Triangular epiphyses of the hallux'] ['ENID88166', 'ENID25127']\n",
      "Path: ['ENID111924', 'ENID51288']\n",
      "Possible Paths: 1\n",
      "penetration hypha formation->(parent-child_biological_process) ->?\n",
      "['penetration hypha formation', 'formation of infection structure'] ['ENID111924', 'ENID51288']\n",
      "Path: ['ENID22253', 'ENID86277', 'ENID32432', 'ENID27082', 'ENID28921']\n",
      "Possible Paths: 152\n",
      "Abnormal shape of the occiput->(parent-child_effect/phenotype) ->(phenotype present_disease) ->(phenotype present_effect/phenotype) ->(phenotype present_disease) ->?\n",
      "['Abnormal shape of the occiput', 'Flat occiput', 'short rib-polydactyly syndrome', 'Retinopathy', 'sickle cell anemia'] ['ENID22253', 'ENID86277', 'ENID32432', 'ENID27082', 'ENID28921']\n",
      "Path: ['ENID70978', 'ENID67026', 'ENID63884', 'ENID70665', 'ENID70667']\n",
      "Possible Paths: 101\n",
      "popliteal area->(parent-child_anatomy) ->(parent-child_anatomy) ->(parent-child_anatomy) ->(parent-child_anatomy) ->?\n",
      "['popliteal area', 'zone of long bone', 'epiphysis', 'epiphysis of phalanx of pes', 'epiphysis of middle phalanx of pes'] ['ENID70978', 'ENID67026', 'ENID63884', 'ENID70665', 'ENID70667']\n"
     ]
    }
   ],
   "source": [
    "qa_algos = GraphAlgos(graph, entity_aliases, relation_aliases, allow_multiple_ans=True)\n",
    "for i in range(5):\n",
    "    query_results = qa_algos.generate_random_query(4, return_path=True)\n",
    "    question_data, source, correct_answers, path_ids = query_results\n",
    "    question = question_data[0]\n",
    "    print(question)\n",
    "    print([id2name[id] for id in path_ids], path_ids)"
   ]
  },
  {
   "cell_type": "code",
   "execution_count": 47,
   "metadata": {},
   "outputs": [
    {
     "name": "stdout",
     "output_type": "stream",
     "text": [
      "17355 ENID129373 multi-cellular organism UBERON\n",
      "16855 ENID64546 small intestine UBERON\n",
      "16743 ENID63376 testis UBERON\n",
      "16742 ENID66050 fallopian tube UBERON\n",
      "16619 ENID64796 prostate gland UBERON\n",
      "16600 ENID64544 spleen UBERON\n",
      "16542 ENID63223 intestine UBERON\n",
      "16513 ENID69442 dorsolateral prefrontal cortex UBERON\n",
      "16476 ENID63500 esophagus UBERON\n",
      "16473 ENID63423 stomach UBERON\n",
      "16456 ENID64485 thyroid gland UBERON\n",
      "16420 ENID63181 adult mammalian kidney UBERON\n",
      "16209 ENID64798 adrenal gland UBERON\n",
      "16142 ENID63604 colon UBERON\n",
      "16048 ENID63501 saliva-secreting gland UBERON\n",
      "15971 ENID63674 cortex of kidney UBERON\n",
      "15959 ENID63359 prefrontal cortex UBERON\n",
      "15918 ENID63745 myometrium UBERON\n",
      "15888 ENID64311 frontal cortex UBERON\n",
      "15842 ENID129374 female gonad UBERON\n",
      "15806 ENID64523 heart left ventricle UBERON\n",
      "15775 ENID63704 urinary bladder UBERON\n",
      "15644 ENID64487 lung UBERON\n",
      "15635 ENID63426 heart UBERON\n",
      "15514 ENID63744 endometrium UBERON\n",
      "15453 ENID63136 lymph node UBERON\n",
      "15386 ENID63240 blood UBERON\n",
      "15386 ENID63713 pancreas UBERON\n",
      "15166 ENID64565 cerebellar cortex UBERON\n",
      "15152 ENID63830 muscle of leg UBERON\n",
      "15150 ENID63431 cerebral cortex UBERON\n",
      "15117 ENID64551 kidney UBERON\n",
      "15082 ENID64476 cerebellum UBERON\n",
      "15053 ENID67143 thoracic mammary gland UBERON\n",
      "14990 ENID64545 liver UBERON\n",
      "14941 ENID64312 temporal lobe UBERON\n",
      "14933 ENID64427 placenta UBERON\n",
      "14847 ENID63123 zone of skin UBERON\n",
      "14761 ENID63430 brain UBERON\n",
      "14535 ENID64814 muscle tissue UBERON\n",
      "14403 ENID63772 tibial nerve UBERON\n",
      "14325 ENID63481 adipose tissue UBERON\n",
      "14099 ENID63584 skeletal muscle tissue UBERON\n",
      "13195 ENID63465 vagina UBERON\n",
      "13166 ENID64395 Ammon's horn UBERON\n",
      "12914 ENID63464 uterus UBERON\n",
      "12800 ENID63370 material anatomical entity UBERON\n",
      "12741 ENID63372 anatomical system UBERON\n",
      "12546 ENID53699 protein binding GO\n",
      "12351 ENID64626 subcutaneous adipose tissue UBERON\n",
      "12348 ENID63377 female reproductive system UBERON\n",
      "12307 ENID63117 pituitary gland UBERON\n",
      "12289 ENID63164 large intestine UBERON\n",
      "12201 ENID64391 neocortex UBERON\n",
      "12056 ENID65076 superior frontal gyrus UBERON\n",
      "12030 ENID64331 forebrain UBERON\n",
      "11998 ENID64352 mammary gland UBERON\n",
      "11881 ENID64314 caudate nucleus UBERON\n",
      "11865 ENID64477 substantia nigra UBERON\n",
      "11801 ENID63824 quadriceps femoris UBERON\n",
      "11728 ENID64863 primary visual cortex UBERON\n",
      "11560 ENID64521 cardiac ventricle UBERON\n",
      "11508 ENID68729 adipose tissue of abdominal region UBERON\n",
      "11471 ENID65138 entorhinal cortex UBERON\n",
      "11457 ENID64552 duodenum UBERON\n",
      "11374 ENID63273 colonic mucosa UBERON\n",
      "11314 ENID64267 nasal cavity mucosa UBERON\n",
      "11279 ENID64894 esophagus mucosa UBERON\n",
      "11271 ENID64339 hypothalamus UBERON\n",
      "11269 ENID64460 occipital lobe UBERON\n",
      "11204 ENID64332 midbrain UBERON\n",
      "11138 ENID64801 tonsil UBERON\n",
      "11007 ENID63609 fundus of stomach UBERON\n",
      "10963 ENID64621 bronchus UBERON\n",
      "10854 ENID65990 mouth mucosa UBERON\n",
      "10759 ENID64313 parietal lobe UBERON\n",
      "10672 ENID64675 spinal cord UBERON\n",
      "10640 ENID63148 tendon UBERON\n",
      "10604 ENID63826 vastus lateralis UBERON\n",
      "10569 ENID64315 putamen UBERON\n",
      "10534 ENID63180 metanephros UBERON\n",
      "10507 ENID63425 aorta UBERON\n",
      "10497 ENID64323 nucleus accumbens UBERON\n",
      "10415 ENID64317 amygdala UBERON\n",
      "10405 ENID64800 bone marrow UBERON\n",
      "10303 ENID64766 corpus callosum UBERON\n",
      "10290 ENID63112 uterine cervix UBERON\n",
      "10164 ENID63952 biceps brachii UBERON\n",
      "10060 ENID63602 caecum UBERON\n",
      "9961 ENID64787 peritoneum UBERON\n",
      "9687 ENID67302 nasal cavity epithelium UBERON\n",
      "9622 ENID64520 cardiac atrium UBERON\n",
      "9578 ENID69864 omental fat pad UBERON\n",
      "9521 ENID63684 adrenal cortex UBERON\n",
      "9508 ENID63466 mammalian vulva UBERON\n",
      "9431 ENID68618 layer of synovial tissue UBERON\n",
      "9321 ENID64065 coronary artery UBERON\n",
      "9172 ENID63921 deltoid UBERON\n",
      "9167 ENID65557 epithelium of mammary gland UBERON\n",
      "9029 ENID64316 globus pallidus UBERON\n"
     ]
    }
   ],
   "source": [
    "verts = qa_algos.get_best_vertices(1000)\n",
    "for vert in verts[:100]:\n",
    "    print(len(graph[vert]), vert, id2name[vert], id2source[vert])"
   ]
  },
  {
   "cell_type": "code",
   "execution_count": 54,
   "metadata": {},
   "outputs": [
    {
     "name": "stdout",
     "output_type": "stream",
     "text": [
      "ENID27160 12\n"
     ]
    }
   ],
   "source": [
    "start_id = 27160\n",
    "verts = {}\n",
    "add = 0\n",
    "while add < 100:\n",
    "    start_id += add\n",
    "    add +=1\n",
    "    vert = 'ENID' + str(start_id)\n",
    "    verts[vert] = len(graph[vert])\n",
    "verts_l = sorted(list(verts.keys()), key=lambda x: x[1], reverse=True)\n",
    "for vert in verts_l:\n",
    "    print(vert, len(graph[vert]))\n",
    "    break"
   ]
  },
  {
   "cell_type": "code",
   "execution_count": 55,
   "metadata": {},
   "outputs": [
    {
     "name": "stdout",
     "output_type": "stream",
     "text": [
      "12 ENID27160 congenital stationary night blindness autosomal dominant MONDO_grouped\n",
      "Path: ['ENID27160', 'ENID22084']\n",
      "Possible Paths: 3\n",
      "congenital stationary night blindness autosomal dominant->(associated with_gene/protein) ->?\n",
      "['congenital stationary night blindness autosomal dominant', 'PDE6B']\n",
      "Path: ['ENID27160', 'ENID6417']\n",
      "Possible Paths: 3\n",
      "congenital stationary night blindness autosomal dominant->(associated with_gene/protein) ->?\n",
      "['congenital stationary night blindness autosomal dominant', 'RHO']\n",
      "Path: ['ENID27160', 'ENID35655', 'ENID27161', 'ENID38855']\n",
      "Possible Paths: 106\n",
      "congenital stationary night blindness autosomal dominant->(parent-child_disease) ->(parent-child_disease) ->(parent-child_disease) ->?\n",
      "['congenital stationary night blindness autosomal dominant', 'autosomal dominant disease', 'autosomal dominant nonsyndromic deafness', 'postlingual non-syndromic genetic deafness']\n",
      "Path: ['ENID27160', 'ENID35655', 'ENID28197']\n",
      "Possible Paths: 108\n",
      "congenital stationary night blindness autosomal dominant->(parent-child_disease) ->(parent-child_disease) ->?\n",
      "['congenital stationary night blindness autosomal dominant', 'autosomal dominant disease', 'spinal muscular atrophy']\n",
      "Path: ['ENID27160', 'ENID22759', 'ENID32033', 'ENID22679', 'ENID32306']\n",
      "Possible Paths: 116\n",
      "congenital stationary night blindness autosomal dominant->(phenotype present_effect/phenotype) ->(phenotype present_disease) ->(phenotype present_effect/phenotype) ->(phenotype present_disease) ->?\n",
      "['congenital stationary night blindness autosomal dominant', 'Autosomal dominant inheritance', 'insomnia (disease)', 'Sleep disturbance', 'narcolepsy without cataplexy']\n"
     ]
    }
   ],
   "source": [
    "en_id = 'ENID27160'\n",
    "all_path_ids = []\n",
    "print(len(graph[en_id]), en_id, id2name[en_id], id2source[en_id])\n",
    "for i in range(5):\n",
    "    query_results = qa_algos.generate_random_query(4, return_path=True,source=en_id)\n",
    "    question_data, source, correct_answers, path_ids = query_results\n",
    "    question = question_data[0]\n",
    "    print(question) \n",
    "    print([id2name[id] for id in path_ids])\n",
    "    all_path_ids.append(path_ids)"
   ]
  },
  {
   "cell_type": "code",
   "execution_count": 53,
   "metadata": {},
   "outputs": [
    {
     "name": "stdout",
     "output_type": "stream",
     "text": [
      "anatomy_protein_present,expression present,64546,2108,anatomy,small intestine,UBERON,7059,3559,gene/protein,IL2RA,NCBI\n",
      "\n",
      "bioprocess_protein,interacts with,7059,3559,gene/protein,IL2RA,NCBI,112177,42104,biological_process,positive regulation of activated T cell proliferation,GO\n",
      "\n"
     ]
    }
   ],
   "source": [
    "path_ids = all_path_ids[2]\n",
    "for i in range(len(path_ids)-1):\n",
    "    node1 = path_ids[i]\n",
    "    node2 = path_ids[i+1]\n",
    "    print(edge2src[node1][node2])"
   ]
  },
  {
   "cell_type": "code",
   "execution_count": null,
   "metadata": {},
   "outputs": [],
   "source": []
  }
 ],
 "metadata": {
  "kernelspec": {
   "display_name": "quacer-b",
   "language": "python",
   "name": "python3"
  },
  "language_info": {
   "codemirror_mode": {
    "name": "ipython",
    "version": 3
   },
   "file_extension": ".py",
   "mimetype": "text/x-python",
   "name": "python",
   "nbconvert_exporter": "python",
   "pygments_lexer": "ipython3",
   "version": "3.10.6"
  }
 },
 "nbformat": 4,
 "nbformat_minor": 2
}
